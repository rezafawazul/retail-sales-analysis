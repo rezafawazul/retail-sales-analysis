{
 "cells": [
  {
   "cell_type": "code",
   "execution_count": null,
   "id": "abac96ea",
   "metadata": {},
   "outputs": [],
   "source": [
    "# Retail Sales Analysis Project\n",
    "# This script analyzes retail sales data using Python's Pandas and Matplotlib libraries.\n",
    "# It includes various visualizations to understand sales trends, customer distribution, and product performance.\n",
    "# The dataset is assumed to be in CSV format and contains columns such as order_date, quantity, item_price, province, city, brand, and customer_id.\n",
    "# The analysis includes monthly sales trends, sales by province, order volume, average item prices, and more.\n",
    "# The script is structured to provide insights into the retail business, helping to identify growth opportunities and areas for improvement.\n",
    "\n",
    "import pandas as pd\n",
    "import matplotlib.pyplot as plt\n",
    "\n",
    "# Load the dataset\n",
    "# pd.read_csv() is used to load CSV file into a DataFrame\n",
    "# 'C:\\\\FAWAZUL\\\\Bootcamp\\\\DQLab\\\\dataset_matplotlib1.csv' is the full path to the dataset\n",
    "# Make sure the file path is correctly typed and that the file is accessible\n",
    "retail = pd.read_csv(\"C:\\\\FAWAZUL\\\\Bootcamp\\\\DQLab\\\\matplotlib_exercise\\\\dataset_matplotlib1.csv\")\n",
    "\n",
    "# Convert order_date column to datetime format\n",
    "# This enables us to extract month and year from the dates for time-based analysis\n",
    "retail['order_date'] = pd.to_datetime(retail['order_date'])\n",
    "\n",
    "# ===============================\n",
    "# CASE 1: Monthly Sales Trend Analysis\n",
    "# ===============================\n",
    "# Objective: Show how total sales trend varies per month\n",
    "# This chart shows the fluctuation of total sales across months, helping identify sales trends over time.\n",
    "\n",
    "retail['sales'] = retail['quantity'] * retail['item_price']\n",
    "retail['order_month'] = retail['order_date'].dt.to_period('M')\n",
    "monthly_sales = retail.groupby('order_month')['sales'].sum()\n",
    "\n",
    "plt.figure(figsize=(10,5))\n",
    "plt.plot(monthly_sales.index.astype(str), monthly_sales.values, marker='o')\n",
    "plt.title('Monthly Sales Trend')\n",
    "plt.xlabel('Order Month')\n",
    "plt.ylabel('Total Sales')\n",
    "plt.xticks(rotation=45)\n",
    "plt.tight_layout()\n",
    "plt.show()\n"
   ]
  }
 ],
 "metadata": {
  "kernelspec": {
   "display_name": "base",
   "language": "python",
   "name": "python3"
  },
  "language_info": {
   "name": "python",
   "version": "3.12.7"
  }
 },
 "nbformat": 4,
 "nbformat_minor": 5
}
